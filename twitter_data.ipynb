{
 "cells": [
  {
   "cell_type": "markdown",
   "metadata": {},
   "source": [
    "# Gathering Tweet Data using twitter module tweety\n",
    "Information about the Twitter api can be found at [docs.tweepy.org](http://docs.tweepy.org/en/v3.1.0/api.html#API.search)\n",
    "Additional and updated information about Twitter's `Standard Search api` can be found [here](https://developer.twitter.com/en/docs/tweets/search/api-reference/get-search-tweets)\n"
   ]
  },
  {
   "cell_type": "code",
   "execution_count": 1,
   "metadata": {},
   "outputs": [],
   "source": [
    "import tweepy\n",
    "import pandas as pd\n",
    "\n",
    "import matplotlib.pyplot as plt\n",
    "\n",
    "# Get your Twitter API credentials and enter them here\n",
    "consumer_key = \"\"\n",
    "consumer_secret = \"\"\n",
    "access_token = \"\"\n",
    "access_token_secret = \"\"\n",
    "\n",
    "\n",
    "auth = tweepy.OAuthHandler(consumer_key, consumer_secret)\n",
    "auth.set_access_token(access_token, access_token_secret)\n",
    "\n",
    "# authenticate the api with token and access information\n",
    "api = tweepy.API(auth)"
   ]
  },
  {
   "cell_type": "code",
   "execution_count": 75,
   "metadata": {},
   "outputs": [
    {
     "name": "stdout",
     "output_type": "stream",
     "text": [
      "0 Our developer community is full of inspiring ideas that help the world learn from and improve our collective prepar… https://t.co/XObxbOQqmQ\n",
      "1 This new streaming endpoint is available in Twitter Developer Labs and provides comprehensive access to COVID-19 re… https://t.co/wFylrCYJI8\n",
      "2 The volume of conversation about COVID-19 is tremendous, which means it requires expertise and computational resour… https://t.co/Rzsa9P2Bn1\n",
      "3 During these unprecedented times, what’s happening on Twitter can help the world better understand &amp; respond to the… https://t.co/X5ZVcb6m1j\n",
      "4 You're up for some fun today and looking for an adventure, and... More for Pisces https://t.co/PMQHAipvly\n",
      "5 New @abellfoundation report drills down on trends in Bmore neighborhoods: https://t.co/P64gzKFnyq. Leading urban an… https://t.co/w1Qr0h6ea2\n",
      "6 FREE AMERICA NOW\n",
      "7 Bravo Texas! https://t.co/cVkDewRqGv\n",
      "8 Give people their freedom back! https://t.co/iG8OYGaVZ0\n",
      "9 Fun moves to the top of your agenda today. Take this opportuni... More for Pisces https://t.co/PMQHAipvly\n"
     ]
    }
   ],
   "source": [
    "# API.home_timeline returns the 'n' most recent statuses, including retweets, \n",
    "# posted by the authenticating user and that user’s friends. \n",
    "\n",
    "public_tweets = api.home_timeline(count = 10)\n",
    "for i, tweet in enumerate(public_tweets):\n",
    "     print (i, tweet.text)"
   ]
  },
  {
   "cell_type": "code",
   "execution_count": 78,
   "metadata": {},
   "outputs": [
    {
     "name": "stdout",
     "output_type": "stream",
     "text": [
      "0 RT @MoviezAdda: #WednesdayMotivation #FitnessMotivation\n",
      "🔥💪 \"#Bhaijaan #Fitness Icon\" 🔥💪\n",
      "\n",
      "#Jacqueline Shot A Perfect Pic Of Dashing #SalmanK…\n",
      "1 RT @Fabriziobustama: The inventor of the N95 mask Peter Tsai is coming out of retirement to help fight COVID-19\n",
      "\n",
      "By @nowthisnews \n",
      "#COVID19…\n",
      "2 RT @susialika5: Dusk teaches that happiness does not have to come earlier,i hope you life you're proud of.if you find that you're not,I hop…\n",
      "3 So love these six #weeblewobbleblobclan #stayathome #artistsathome #reshedency #WIP for #raveninghamsculpturetrail… https://t.co/m95Cf0UVby\n",
      "4 RT @FoniLunboy: Better days are ahead of us. Believe me. #StayAtHome 🇲🇻🙏♥️\n"
     ]
    }
   ],
   "source": [
    "# Use the API.search eturns tweets that match a specified query\n",
    "# reference: http://docs.tweepy.org/en/v3.1.0/api.html#API.search\n",
    "\n",
    "covid_tweets = api.search('StayAtHome', lang='en')\n",
    "for i, t in enumerate(covid_tweets):\n",
    "    if i > 4: break\n",
    "    print(i, t.text)"
   ]
  },
  {
   "cell_type": "code",
   "execution_count": 83,
   "metadata": {},
   "outputs": [
    {
     "name": "stdout",
     "output_type": "stream",
     "text": [
      "contributors                                                                            None\n",
      "coordinates                                                                             None\n",
      "created_at                                                    Wed Apr 29 21:25:01 +0000 2020\n",
      "entities.hashtags                          [{'text': 'QuedateEnCasa', 'indices': [23, 37]...\n",
      "entities.media                             [{'id': 1255609050483564544, 'id_str': '125560...\n",
      "entities.symbols                                                                          []\n",
      "entities.urls                                                                             []\n",
      "entities.user_mentions                                                                    []\n",
      "extended_entities.media                    [{'id': 1255609050483564544, 'id_str': '125560...\n",
      "favorite_count                                                                             0\n",
      "favorited                                                                              False\n",
      "geo                                                                                     None\n",
      "id                                                                       1255609055349014529\n",
      "id_str                                                                   1255609055349014529\n",
      "in_reply_to_screen_name                                                                 None\n",
      "in_reply_to_status_id                                                                   None\n",
      "in_reply_to_status_id_str                                                               None\n",
      "in_reply_to_user_id                                                                     None\n",
      "in_reply_to_user_id_str                                                                 None\n",
      "is_quote_status                                                                        False\n",
      "lang                                                                                      es\n",
      "metadata.iso_language_code                                                                es\n",
      "metadata.result_type                                                                  recent\n",
      "place                                                                                    NaN\n",
      "place.bounding_box.coordinates             [[[-98.778559, 29.141956], [-98.302744, 29.141...\n",
      "place.bounding_box.type                                                              Polygon\n",
      "place.contained_within                                                                    []\n",
      "place.country                                                                  United States\n",
      "place.country_code                                                                        US\n",
      "place.full_name                                                              San Antonio, TX\n",
      "                                                                 ...                        \n",
      "user.has_extended_profile                                                               True\n",
      "user.id                                                                            144269058\n",
      "user.id_str                                                                        144269058\n",
      "user.is_translation_enabled                                                            False\n",
      "user.is_translator                                                                     False\n",
      "user.lang                                                                               None\n",
      "user.listed_count                                                                         69\n",
      "user.location                                                                   Live Oak, TX\n",
      "user.name                                                                Edui Tijerina Chapa\n",
      "user.notifications                                                                     False\n",
      "user.profile_background_color                                                         131516\n",
      "user.profile_background_image_url          http://abs.twimg.com/images/themes/theme14/bg.gif\n",
      "user.profile_background_image_url_https    https://abs.twimg.com/images/themes/theme14/bg...\n",
      "user.profile_background_tile                                                            True\n",
      "user.profile_banner_url                    https://pbs.twimg.com/profile_banners/14426905...\n",
      "user.profile_image_url                     http://pbs.twimg.com/profile_images/1246175139...\n",
      "user.profile_image_url_https               https://pbs.twimg.com/profile_images/124617513...\n",
      "user.profile_link_color                                                               009999\n",
      "user.profile_sidebar_border_color                                                     EEEEEE\n",
      "user.profile_sidebar_fill_color                                                       EFEFEF\n",
      "user.profile_text_color                                                               333333\n",
      "user.profile_use_background_image                                                       True\n",
      "user.protected                                                                         False\n",
      "user.screen_name                                                                EduiTijerina\n",
      "user.statuses_count                                                                    55989\n",
      "user.time_zone                                                                          None\n",
      "user.translator_type                                                                    none\n",
      "user.url                                                             https://t.co/A4VQoVABG5\n",
      "user.utc_offset                                                                         None\n",
      "user.verified                                                                          False\n",
      "Name: 0, Length: 229, dtype: object\n"
     ]
    }
   ],
   "source": [
    "# Conver twitter results to pandas dataframe for other analysis\n",
    "results = api.search(q='StayAtHome', count=10)\n",
    "json_data = [r._json for r in results]\n",
    "df = pd.io.json.json_normalize(json_data)\n",
    "print(df.loc[0, :])"
   ]
  },
  {
   "cell_type": "markdown",
   "metadata": {},
   "source": [
    "## Create function to pull  twitter text given a query"
   ]
  },
  {
   "cell_type": "code",
   "execution_count": 2,
   "metadata": {},
   "outputs": [],
   "source": [
    "def get_twitter_data(api, query='StayAtHome', num_result = 100):\n",
    "    '''\n",
    "    input: \n",
    "        api - twitter ai\n",
    "        query - words to use for query \n",
    "        num_result \n",
    "    ouput: \n",
    "        a transformed data frame object\n",
    "    '''\n",
    "     \n",
    "    json_data = []; n = 0;\n",
    "    while n < num_result: \n",
    "        for search_result in api.search(query, lang='en', count=num_result-n):\n",
    "            if n > num_result: \n",
    "                break \n",
    "            n = n + 1\n",
    "            json_data.append(search_result._json)\n",
    "    \n",
    "    df = pd.io.json.json_normalize(json_data)\n",
    "    \n",
    "    return df[['id', 'created_at', 'text', 'favorite_count', 'retweet_count', 'truncated']]"
   ]
  },
  {
   "cell_type": "markdown",
   "metadata": {},
   "source": [
    "### potential queries related to COVID-19: `flattenthecurve, staysafe, covid19`"
   ]
  },
  {
   "cell_type": "code",
   "execution_count": 3,
   "metadata": {},
   "outputs": [
    {
     "data": {
      "text/html": [
       "<div>\n",
       "<style scoped>\n",
       "    .dataframe tbody tr th:only-of-type {\n",
       "        vertical-align: middle;\n",
       "    }\n",
       "\n",
       "    .dataframe tbody tr th {\n",
       "        vertical-align: top;\n",
       "    }\n",
       "\n",
       "    .dataframe thead th {\n",
       "        text-align: right;\n",
       "    }\n",
       "</style>\n",
       "<table border=\"1\" class=\"dataframe\">\n",
       "  <thead>\n",
       "    <tr style=\"text-align: right;\">\n",
       "      <th></th>\n",
       "      <th>id</th>\n",
       "      <th>created_at</th>\n",
       "      <th>text</th>\n",
       "      <th>favorite_count</th>\n",
       "      <th>retweet_count</th>\n",
       "      <th>truncated</th>\n",
       "    </tr>\n",
       "  </thead>\n",
       "  <tbody>\n",
       "    <tr>\n",
       "      <th>497</th>\n",
       "      <td>1255632936491089920</td>\n",
       "      <td>Wed Apr 29 22:59:55 +0000 2020</td>\n",
       "      <td>RT @DiamondandSilk: We are the United States, ...</td>\n",
       "      <td>0</td>\n",
       "      <td>4852</td>\n",
       "      <td>False</td>\n",
       "    </tr>\n",
       "    <tr>\n",
       "      <th>498</th>\n",
       "      <td>1255632910243303429</td>\n",
       "      <td>Wed Apr 29 22:59:48 +0000 2020</td>\n",
       "      <td>@JoeySalads “fLaTtEn tHe cUrVe”</td>\n",
       "      <td>0</td>\n",
       "      <td>0</td>\n",
       "      <td>False</td>\n",
       "    </tr>\n",
       "    <tr>\n",
       "      <th>499</th>\n",
       "      <td>1255632906019471360</td>\n",
       "      <td>Wed Apr 29 22:59:47 +0000 2020</td>\n",
       "      <td>I am currently practicing social distancing fr...</td>\n",
       "      <td>12</td>\n",
       "      <td>3</td>\n",
       "      <td>False</td>\n",
       "    </tr>\n",
       "  </tbody>\n",
       "</table>\n",
       "</div>"
      ],
      "text/plain": [
       "                      id                      created_at  \\\n",
       "497  1255632936491089920  Wed Apr 29 22:59:55 +0000 2020   \n",
       "498  1255632910243303429  Wed Apr 29 22:59:48 +0000 2020   \n",
       "499  1255632906019471360  Wed Apr 29 22:59:47 +0000 2020   \n",
       "\n",
       "                                                  text  favorite_count  \\\n",
       "497  RT @DiamondandSilk: We are the United States, ...               0   \n",
       "498                    @JoeySalads “fLaTtEn tHe cUrVe”               0   \n",
       "499  I am currently practicing social distancing fr...              12   \n",
       "\n",
       "     retweet_count  truncated  \n",
       "497           4852      False  \n",
       "498              0      False  \n",
       "499              3      False  "
      ]
     },
     "execution_count": 3,
     "metadata": {},
     "output_type": "execute_result"
    }
   ],
   "source": [
    "twit_data = get_twitter_data(api, 'StayAtHome', 1000)\n",
    "twit_data = twit_data.append(get_twitter_data(api, 'COVID19', 1000))\n",
    "twit_data = twit_data.append(get_twitter_data(api, 'Flatten', 500))\n",
    "\n",
    "twit_data.tail(3)"
   ]
  },
  {
   "cell_type": "code",
   "execution_count": 6,
   "metadata": {},
   "outputs": [],
   "source": [
    "# Load to CSV File\n",
    "twit_data.to_csv(\"data/covid19.csv\", index=False, encoding=\"utf-8\")"
   ]
  },
  {
   "cell_type": "code",
   "execution_count": 117,
   "metadata": {},
   "outputs": [],
   "source": [
    "flatten_curve = get_twitter_data(api, 'Flatten', 500)\n",
    "flatten_curve.tail(3)\n",
    "flatten_curve.to_csv(\"flatten_curve.csv\", index=False, encoding=\"utf-8\")"
   ]
  },
  {
   "cell_type": "code",
   "execution_count": 49,
   "metadata": {},
   "outputs": [
    {
     "name": "stdout",
     "output_type": "stream",
     "text": [
      "['created_at', 'id', 'id_str', 'text', 'truncated', 'entities', 'metadata', 'source', 'in_reply_to_status_id', 'in_reply_to_status_id_str', 'in_reply_to_user_id', 'in_reply_to_user_id_str', 'in_reply_to_screen_name', 'user', 'geo', 'coordinates', 'place', 'contributors', 'retweeted_status', 'is_quote_status', 'retweet_count', 'favorite_count', 'favorited', 'retweeted', 'lang']\n"
     ]
    }
   ],
   "source": []
  },
  {
   "cell_type": "code",
   "execution_count": 42,
   "metadata": {},
   "outputs": [
    {
     "name": "stdout",
     "output_type": "stream",
     "text": [
      "{'id': 1017767895290535936, 'id_str': '1017767895290535936', 'name': 'FmNdlozi', 'screen_name': 'ForsterNdlozi', 'location': 'South Africa', 'description': 'Jesus Christ is Lord and I love Him because He first loved me.', 'url': None, 'entities': {'description': {'urls': []}}, 'protected': False, 'followers_count': 169, 'friends_count': 968, 'listed_count': 0, 'created_at': 'Fri Jul 13 13:49:10 +0000 2018', 'favourites_count': 2969, 'utc_offset': None, 'time_zone': None, 'geo_enabled': False, 'verified': False, 'statuses_count': 434, 'lang': None, 'contributors_enabled': False, 'is_translator': False, 'is_translation_enabled': False, 'profile_background_color': 'F5F8FA', 'profile_background_image_url': None, 'profile_background_image_url_https': None, 'profile_background_tile': False, 'profile_image_url': 'http://pbs.twimg.com/profile_images/1198683183757307904/VuOL11U8_normal.jpg', 'profile_image_url_https': 'https://pbs.twimg.com/profile_images/1198683183757307904/VuOL11U8_normal.jpg', 'profile_banner_url': 'https://pbs.twimg.com/profile_banners/1017767895290535936/1548144966', 'profile_link_color': '1DA1F2', 'profile_sidebar_border_color': 'C0DEED', 'profile_sidebar_fill_color': 'DDEEF6', 'profile_text_color': '333333', 'profile_use_background_image': True, 'has_extended_profile': True, 'default_profile': True, 'default_profile_image': False, 'following': False, 'follow_request_sent': False, 'notifications': False, 'translator_type': 'none'}\n"
     ]
    }
   ],
   "source": [
    "print(search_result._json['user'])"
   ]
  },
  {
   "cell_type": "code",
   "execution_count": 34,
   "metadata": {},
   "outputs": [
    {
     "name": "stdout",
     "output_type": "stream",
     "text": [
      "RT @GovernmentZA: South Africa will shift to #Level4Lockdown to prevent and combat the spread of #COVID19SA #StayAtHome https://t.co/NWEOWJ…\n"
     ]
    }
   ],
   "source": [
    "print(search_result._json['text'])"
   ]
  },
  {
   "cell_type": "code",
   "execution_count": null,
   "metadata": {},
   "outputs": [],
   "source": []
  }
 ],
 "metadata": {
  "kernelspec": {
   "display_name": "Python 3",
   "language": "python",
   "name": "python3"
  },
  "language_info": {
   "codemirror_mode": {
    "name": "ipython",
    "version": 3
   },
   "file_extension": ".py",
   "mimetype": "text/x-python",
   "name": "python",
   "nbconvert_exporter": "python",
   "pygments_lexer": "ipython3",
   "version": "3.7.3"
  }
 },
 "nbformat": 4,
 "nbformat_minor": 2
}
